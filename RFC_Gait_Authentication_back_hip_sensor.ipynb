{
  "nbformat": 4,
  "nbformat_minor": 0,
  "metadata": {
    "colab": {
      "provenance": [],
      "toc_visible": true,
      "mount_file_id": "1TWMKvH89tw1LjwbMOMy8R4ErPB1RcN-y",
      "authorship_tag": "ABX9TyP1EMB/jxDgBhUalO+IPq/V"
    },
    "kernelspec": {
      "name": "python3",
      "display_name": "Python 3"
    },
    "language_info": {
      "name": "python"
    }
  },
  "cells": [
    {
      "cell_type": "code",
      "execution_count": 334,
      "metadata": {
        "id": "4et4dRcTkUXE"
      },
      "outputs": [],
      "source": [
        "import pandas as pd\n",
        "import seaborn as sns\n",
        "import numpy as np\n",
        "import matplotlib.pyplot as plt\n",
        "\n",
        "from statistics import mean, stdev, variance\n",
        "from scipy.stats import skew, kurtosis"
      ]
    },
    {
      "cell_type": "code",
      "source": [
        "User128 = pd.read_csv('/content/drive/MyDrive/Project Data Set/1_3_data_set/First_3_users_data/03. filtered_walk_label_subject128_BackHip_Accelerometer.csv')\n",
        "User129 = pd.read_csv('/content/drive/MyDrive/Project Data Set/1_3_data_set/First_3_users_data/09. filtered_walk_label_subject129_BackHip_Accelerometer.csv')\n",
        "User143 = pd.read_csv('/content/drive/MyDrive/Project Data Set/1_3_data_set/First_3_users_data/15. filtered_walk_label_subject143_BackHip_Accelerometer.csv')\n",
        "User153 = pd.read_csv('/content/drive/MyDrive/Project Data Set/4_6_data_set/21. filtered_walk_label_subject153_BackHip_Accelerometer.csv')\n",
        "User154 = pd.read_csv('/content/drive/MyDrive/Project Data Set/4_6_data_set/27. filtered_walk_label_subject154_BackHip_Accelerometer.csv')\n",
        "User162 = pd.read_csv('/content/drive/MyDrive/Project Data Set/4_6_data_set/33. filtered_walk_label_subject162_BackHip_Accelerometer.csv')\n",
        "User165 = pd.read_csv('/content/drive/MyDrive/Project Data Set/7_9_data_set/39. filtered_walk_label_subject165_BackHip_Accelerometer.csv')\n",
        "User177 = pd.read_csv('/content/drive/MyDrive/Project Data Set/7_9_data_set/45. filtered_walk_label_subject177_BackHip_Accelerometer.csv')\n",
        "User197 = pd.read_csv('/content/drive/MyDrive/Project Data Set/7_9_data_set/51. filtered_walk_label_subject197_BackHip_Accelerometer.csv')\n",
        "User260 = pd.read_csv('/content/drive/MyDrive/Project Data Set/10_12_data_set/57. filtered_walk_label_subject260_BackHip_Accelerometer.csv')\n",
        "User525 = pd.read_csv('/content/drive/MyDrive/Project Data Set/10_12_data_set/63. filtered_walk_label_subject525_BackHip_Accelerometer.csv')\n",
        "User914 = pd.read_csv('/content/drive/MyDrive/Project Data Set/10_12_data_set/69. filtered_walk_label_subject914_BackHip_Accelerometer.csv')"
      ],
      "metadata": {
        "id": "4iU_FkFukqSi"
      },
      "execution_count": 335,
      "outputs": []
    },
    {
      "cell_type": "code",
      "source": [
        "#Format User's data frames to remove unnecesary columns and rows. Will only be using 200 rows\n",
        "#User128 (1)\n",
        "User128[['x','y','z']] = User128[['lateral', 'vertical','anterior']]\n",
        "User128 = User128.drop(labels=['lateral', 'vertical', 'anterior', 'datetime', 'epocms', 'Unnamed: 0', 'elapseds','timestamp0500'], axis=1)[:10000]\n",
        "User128['ID'] = User128['label']\n",
        "User128 = User128.drop(labels='label', axis=1)\n",
        "User128['ID'] = '128'\n",
        "\n",
        "#User129(2)\n",
        "User129[['x', 'y', 'z']] = User129[['lateral', 'vertical', 'anterior']]\n",
        "User129 = User129.drop(labels=['lateral', 'vertical', 'anterior', 'datetime', 'epocms', 'Unnamed: 0', 'elapseds', 'timestamp0500'], axis=1)[:10000]\n",
        "User129['ID'] = User129['label']\n",
        "User129 = User129.drop(labels='label', axis=1)\n",
        "User129['ID'] = '129'\n",
        "\n",
        "#User143(3)\n",
        "User143[['x', 'y', 'z']] = User143[['lateral', 'vertical', 'anterior']]\n",
        "User143 = User143.drop(labels=['lateral', 'vertical', 'anterior', 'datetime', 'epocms', 'Unnamed: 0', 'elapseds', 'timestamp0500'], axis=1)[:10000]\n",
        "User143['ID'] = User143['label']\n",
        "User143 = User143.drop(labels='label', axis=1)\n",
        "User143['ID'] = '143'\n",
        "\n",
        "#User153(4)\n",
        "User153[['x', 'y', 'z']] = User153[['lateral', 'vertical', 'anterior']]\n",
        "User153 = User153.drop(labels=['lateral', 'vertical', 'anterior', 'datetime', 'epocms', 'Unnamed: 0', 'elapseds', 'timestamp0500'], axis=1)[:10000]\n",
        "User153['ID'] = User153['label']\n",
        "User153 = User153.drop(labels='label', axis=1)\n",
        "User153['153'] = '153'\n",
        "\n",
        "#User154(5)\n",
        "User154[['x', 'y', 'z']] = User154[['lateral', 'vertical', 'anterior']]\n",
        "User154 = User154.drop(labels=['lateral', 'vertical', 'anterior', 'datetime', 'epocms', 'Unnamed: 0', 'elapseds', 'timestamp0500'], axis=1)[:10000]\n",
        "User154['ID'] = User154['label']\n",
        "User154 = User154.drop(labels='label', axis=1)\n",
        "User154['ID'] = '154'\n",
        "\n",
        "#User162(6)\n",
        "User162[['x', 'y', 'z']] = User162[['lateral', 'vertical', 'anterior']]\n",
        "User162 = User162.drop(labels=['lateral', 'vertical', 'anterior', 'datetime', 'epocms', 'Unnamed: 0', 'elapseds', 'timestamp0500'], axis=1)[:10000]\n",
        "User162['ID'] = User162['label']\n",
        "User162 = User162.drop(labels='label', axis=1)\n",
        "User162['ID'] = '162'\n",
        "\n",
        "#User165(7)\n",
        "User165[['x', 'y', 'z']] = User165[['lateral', 'vertical', 'anterior']]\n",
        "User165 = User165.drop(labels=['lateral', 'vertical', 'anterior', 'datetime', 'epocms', 'Unnamed: 0', 'elapseds', 'timestamp0500'], axis=1)[:10000]\n",
        "User165['ID'] = User165['label']\n",
        "User165 = User165.drop(labels='label', axis=1)\n",
        "User165['ID'] = '165'\n",
        "\n",
        "#User177(8)\n",
        "User177[['x', 'y', 'z']] = User177[['lateral', 'vertical', 'anterior']]\n",
        "User177 = User177.drop(labels=['lateral', 'vertical', 'anterior', 'datetime', 'epocms', 'Unnamed: 0', 'elapseds', 'timestamp0500'], axis=1)[:10000]\n",
        "User177['ID'] = User177['label']\n",
        "User177 = User177.drop(labels='label', axis=1)\n",
        "User177['ID'] = '177'\n",
        "\n",
        "#User197(9)\n",
        "User197[['x', 'y', 'z']] = User197[['lateral', 'vertical', 'anterior']]\n",
        "User197 = User197.drop(labels=['lateral', 'vertical', 'anterior', 'datetime', 'epocms', 'Unnamed: 0', 'elapseds', 'timestamp0500'], axis=1)[:10000]\n",
        "User197['ID'] = User197['label']\n",
        "User197 = User197.drop(labels='label', axis=1)\n",
        "User197['ID'] = '197'\n",
        "\n",
        "#User260(10)\n",
        "User260[['x', 'y', 'z']] = User260[['lateral', 'vertical', 'anterior']]\n",
        "User260 = User260.drop(labels=['lateral', 'vertical', 'anterior', 'datetime', 'epocms', 'Unnamed: 0', 'elapseds', 'timestamp0500'], axis=1)[:10000]\n",
        "User260['ID'] = User260['label']\n",
        "User260 = User260.drop(labels='label', axis=1)\n",
        "User260['ID'] = '260'\n",
        "\n",
        "#User525(11)\n",
        "User525[['x', 'y', 'z']] = User525[['lateral', 'vertical', 'anterior']]\n",
        "User525 = User525.drop(labels=['lateral', 'vertical', 'anterior', 'datetime', 'epocms', 'Unnamed: 0', 'elapseds', 'timestamp0500'], axis=1)[:10000]\n",
        "User525['ID'] = User525['label']\n",
        "User525 = User525.drop(labels='label', axis=1)\n",
        "User525['ID'] = '525'\n",
        "\n",
        "#User914(12)\n",
        "User914[['x', 'y', 'z']] = User914[['lateral', 'vertical', 'anterior']]\n",
        "User914 = User914.drop(labels=['lateral', 'vertical', 'anterior', 'datetime', 'epocms', 'Unnamed: 0', 'elapseds', 'timestamp0500'], axis=1)[:10000]\n",
        "User914['ID'] = User914['label']\n",
        "User914 = User914.drop(labels='label', axis=1)\n",
        "User914['ID'] = '914'"
      ],
      "metadata": {
        "id": "WxUjV1xsmuN2"
      },
      "execution_count": 336,
      "outputs": []
    },
    {
      "cell_type": "code",
      "source": [
        "#Function for extracting features from the different data frames\n",
        "#Features are: Mean, STD, Skewness, Kurtosis, Variance, IQR\n",
        "def features(dataframe):\n",
        "  count = 0\n",
        "  #Store mean values\n",
        "  x_mean = []\n",
        "  y_mean = []\n",
        "  z_mean = []\n",
        "  #Store standard deviation values\n",
        "  x_std = []\n",
        "  y_std = []\n",
        "  z_std = []\n",
        "  #Store variance values\n",
        "  x_var = []\n",
        "  y_var = []\n",
        "  z_var = []\n",
        "  #Store Inter Quartile Range (IQR)\n",
        "  x_iqr = []\n",
        "  y_iqr = []\n",
        "  z_iqr = []\n",
        "\n",
        "  #Store Kurtosis\n",
        "  x_kur = []\n",
        "  y_kur = []\n",
        "  z_kur = []\n",
        "  #Store Skewness\n",
        "  x_skw = []\n",
        "  y_skw = []\n",
        "  z_skw = []\n",
        "  #List of all features extracted\n",
        "  feature_extraction = []\n",
        "\n",
        "\n",
        "  for i in range(len(dataframe)):\n",
        "    if count != 4:\n",
        "      #Append to mean list\n",
        "      x_mean.append(dataframe['x'][i])\n",
        "      y_mean.append(dataframe['y'][i])\n",
        "      z_mean.append(dataframe['z'][i])\n",
        "\n",
        "      #Append to standard deviation list\n",
        "      x_std.append(dataframe['x'][i])\n",
        "      y_std.append(dataframe['y'][i])\n",
        "      z_std.append(dataframe['z'][i])\n",
        "\n",
        "      #Append to variance list\n",
        "      x_var.append(dataframe['x'][i])\n",
        "      y_var.append(dataframe['y'][i])\n",
        "      z_var.append(dataframe['z'][i])\n",
        "\n",
        "      #Append to IQR list\n",
        "      x_iqr.append(dataframe['x'][i])\n",
        "      y_iqr.append(dataframe['y'][i])\n",
        "      z_iqr.append(dataframe['z'][i])\n",
        "\n",
        "      #Append to Skewness list\n",
        "      x_skw.append(dataframe['x'][i])\n",
        "      y_skw.append(dataframe['y'][i])\n",
        "      z_skw.append(dataframe['z'][i])\n",
        "\n",
        "      #Append to Kurtosis list\n",
        "      x_kur.append(dataframe['x'][i])\n",
        "      y_kur.append(dataframe['y'][i])\n",
        "      z_kur.append(dataframe['z'][i])\n",
        "\n",
        "      count = count + 1\n",
        "    else:\n",
        "      #Calculate mean\n",
        "      x_mean = mean(x_mean)\n",
        "      y_mean = mean(y_mean)\n",
        "      z_mean = mean(z_mean)\n",
        "\n",
        "      #Calculate standar deviation\n",
        "      x_std = stdev(x_std)\n",
        "      y_std = stdev(y_std)\n",
        "      z_std = stdev(z_std)\n",
        "\n",
        "      #Calculate Variance\n",
        "      x_var = variance(x_var)\n",
        "      y_var = variance(y_var)\n",
        "      z_var = variance(z_var)\n",
        "\n",
        "      #Calculate IQR\n",
        "      q2,q1 = np.percentile(x_iqr, [75,25])\n",
        "      q4,q3 = np.percentile(y_iqr, [75,25])\n",
        "      q6,q5 = np.percentile(z_iqr, [75,25])\n",
        "\n",
        "      x_iqr = q2-q1\n",
        "      y_iqr = q4-q3\n",
        "      z_iqr = q6-q5\n",
        "\n",
        "      #Calculate Skewness\n",
        "      x_skw = skew(x_skw, axis=0, bias=True)\n",
        "      y_skw = skew(y_skw, axis=0, bias=True)\n",
        "      z_skw = skew(z_skw, axis=0, bias=True)\n",
        "\n",
        "      #Calculate Kurtosis\n",
        "      x_kur = kurtosis(x_kur, axis=0, bias=True)\n",
        "      y_kur = kurtosis(y_kur, axis=0, bias=True)\n",
        "      z_kur = kurtosis(z_kur, axis=0, bias=True)\n",
        "\n",
        "      #Store features in tuple then store tuple in feature_extracion list\n",
        "      data_tuple = (x_mean, y_mean, z_mean, x_std, y_std, z_std, x_var, y_var, z_var, x_iqr, y_iqr, z_iqr, x_skw, y_skw, z_skw, x_kur, y_kur, z_kur)\n",
        "      feature_extraction.append(data_tuple)\n",
        "\n",
        "      #Clear lists to proceed to the next 5 elements\n",
        "      x_mean = []\n",
        "      y_mean = []\n",
        "      z_mean = []\n",
        "\n",
        "      x_std = []\n",
        "      y_std = []\n",
        "      z_std = []\n",
        "\n",
        "      x_var = []\n",
        "      y_var = []\n",
        "      z_var = []\n",
        "\n",
        "      x_iqr = []\n",
        "      y_iqr = []\n",
        "      z_iqr = []\n",
        "\n",
        "      x_kur = []\n",
        "      y_kur = []\n",
        "      z_kur = []\n",
        "\n",
        "      x_skw = []\n",
        "      y_skw = []\n",
        "      z_skw = []\n",
        "\n",
        "      #Reset counter\n",
        "      count = 0\n",
        "\n",
        "  return feature_extraction #returns tuple list\n"
      ],
      "metadata": {
        "id": "d4QKpWLlm88T"
      },
      "execution_count": 337,
      "outputs": []
    },
    {
      "cell_type": "code",
      "source": [
        "x1 = features(User128)\n",
        "x2 = features(User129)\n",
        "x3 = features(User143)\n",
        "x4 = features(User153)\n",
        "x5 = features(User154)\n",
        "x6 = features(User162)\n",
        "x7 = features(User165)\n",
        "x8 = features(User177)\n",
        "x9 = features(User197)\n",
        "x10 = features(User260)\n",
        "x11 = features(User525)\n",
        "x12 = features(User914)"
      ],
      "metadata": {
        "id": "mJvs0KWjniDv"
      },
      "execution_count": 338,
      "outputs": []
    },
    {
      "cell_type": "code",
      "source": [
        "x1 = pd.DataFrame(x1)\n",
        "x2 = pd.DataFrame(x2)\n",
        "x3 = pd.DataFrame(x3)\n",
        "x4 = pd.DataFrame(x4)\n",
        "x5 = pd.DataFrame(x5)\n",
        "x6 = pd.DataFrame(x6)\n",
        "x7 = pd.DataFrame(x7)\n",
        "x8 = pd.DataFrame(x8)\n",
        "x9 = pd.DataFrame(x9)\n",
        "x10 = pd.DataFrame(x10)\n",
        "x11 = pd.DataFrame(x11)\n",
        "x12 = pd.DataFrame(x12)"
      ],
      "metadata": {
        "id": "j6ZJ6GPIuONm"
      },
      "execution_count": 339,
      "outputs": []
    },
    {
      "cell_type": "code",
      "source": [
        "#Rename columns to their feature names mean, std, var, iqr\n",
        "x1[['x_mean', 'y_mean', 'z_mean', 'x_std', 'y_std', 'z_std', 'x_var', 'y_var', 'z_var', 'x_iqr', 'y_iqr', 'z_iqr', 'x_skw', 'y_skw', 'z_skw', 'x_kur', 'y_kur', 'z_kur']] = x1[[0,1,2,3,4,5,6,7,8,9,10,11,12,13,14,15,16,17]]\n",
        "x1 = x1.drop(labels=[0,1,2,3,4,5,6,7,8,9,10,11,12,13,14,15,16,17], axis=1)\n",
        "x1['ID'] = 128\n",
        "\n",
        "x2[['x_mean', 'y_mean', 'z_mean', 'x_std', 'y_std', 'z_std', 'x_var', 'y_var', 'z_var', 'x_iqr', 'y_iqr', 'z_iqr', 'x_skw', 'y_skw', 'z_skw', 'x_kur', 'y_kur', 'z_kur']] = x2[[0,1,2,3,4,5,6,7,8,9,10,11,12,13,14,15,16,17]]\n",
        "x2 = x2.drop(labels=[0,1,2,3,4,5,6,7,8,9,10,11,12,13,14,15,16,17], axis=1)\n",
        "x2['ID'] = 129\n",
        "\n",
        "x3[['x_mean', 'y_mean', 'z_mean', 'x_std', 'y_std', 'z_std', 'x_var', 'y_var', 'z_var', 'x_iqr', 'y_iqr', 'z_iqr', 'x_skw', 'y_skw', 'z_skw', 'x_kur', 'y_kur', 'z_kur']] = x3[[0,1,2,3,4,5,6,7,8,9,10,11,12,13,14,15,16,17]]\n",
        "x3 = x3.drop(labels=[0,1,2,3,4,5,6,7,8,9,10,11,12,13,14,15,16,17], axis=1)\n",
        "x3['ID'] = 143\n",
        "\n",
        "x4[['x_mean', 'y_mean', 'z_mean', 'x_std', 'y_std', 'z_std', 'x_var', 'y_var', 'z_var', 'x_iqr', 'y_iqr', 'z_iqr', 'x_skw', 'y_skw', 'z_skw', 'x_kur', 'y_kur', 'z_kur']] = x4[[0,1,2,3,4,5,6,7,8,9,10,11,12,13,14,15,16,17]]\n",
        "x4 = x4.drop(labels=[0,1,2,3,4,5,6,7,8,9,10,11,12,13,14,15,16,17], axis=1)\n",
        "x4['ID'] = 153\n",
        "\n",
        "x5[['x_mean', 'y_mean', 'z_mean', 'x_std', 'y_std', 'z_std', 'x_var', 'y_var', 'z_var', 'x_iqr', 'y_iqr', 'z_iqr', 'x_skw', 'y_skw', 'z_skw', 'x_kur', 'y_kur', 'z_kur']] = x5[[0,1,2,3,4,5,6,7,8,9,10,11,12,13,14,15,16,17]]\n",
        "x5 = x5.drop(labels=[0,1,2,3,4,5,6,7,8,9,10,11,12,13,14,15,16,17], axis=1)\n",
        "x5['ID'] = 154\n",
        "\n",
        "x6[['x_mean', 'y_mean', 'z_mean', 'x_std', 'y_std', 'z_std', 'x_var', 'y_var', 'z_var', 'x_iqr', 'y_iqr', 'z_iqr', 'x_skw', 'y_skw', 'z_skw', 'x_kur', 'y_kur', 'z_kur']] = x6[[0,1,2,3,4,5,6,7,8,9,10,11,12,13,14,15,16,17]]\n",
        "x6 = x6.drop(labels=[0,1,2,3,4,5,6,7,8,9,10,11,12,13,14,15,16,17], axis=1)\n",
        "x6['ID'] = 162\n",
        "\n",
        "x7[['x_mean', 'y_mean', 'z_mean', 'x_std', 'y_std', 'z_std', 'x_var', 'y_var', 'z_var', 'x_iqr', 'y_iqr', 'z_iqr', 'x_skw', 'y_skw', 'z_skw', 'x_kur', 'y_kur', 'z_kur']] = x7[[0,1,2,3,4,5,6,7,8,9,10,11,12,13,14,15,16,17]]\n",
        "x7 = x7.drop(labels=[0,1,2,3,4,5,6,7,8,9,10,11,12,13,14,15,16,17], axis=1)\n",
        "x7['ID'] = 165\n",
        "\n",
        "x8[['x_mean', 'y_mean', 'z_mean', 'x_std', 'y_std', 'z_std', 'x_var', 'y_var', 'z_var', 'x_iqr', 'y_iqr', 'z_iqr', 'x_skw', 'y_skw', 'z_skw', 'x_kur', 'y_kur', 'z_kur']] = x8[[0,1,2,3,4,5,6,7,8,9,10,11,12,13,14,15,16,17]]\n",
        "x8 = x8.drop(labels=[0,1,2,3,4,5,6,7,8,9,10,11,12,13,14,15,16,17], axis=1)\n",
        "x8['ID'] = 177\n",
        "\n",
        "x9[['x_mean', 'y_mean', 'z_mean', 'x_std', 'y_std', 'z_std', 'x_var', 'y_var', 'z_var', 'x_iqr', 'y_iqr', 'z_iqr', 'x_skw', 'y_skw', 'z_skw', 'x_kur', 'y_kur', 'z_kur']] = x9[[0,1,2,3,4,5,6,7,8,9,10,11,12,13,14,15,16,17]]\n",
        "x9 = x9.drop(labels=[0,1,2,3,4,5,6,7,8,9,10,11,12,13,14,15,16,17], axis=1)\n",
        "x9['ID'] = 197\n",
        "\n",
        "x10[['x_mean', 'y_mean', 'z_mean', 'x_std', 'y_std', 'z_std', 'x_var', 'y_var', 'z_var', 'x_iqr', 'y_iqr', 'z_iqr', 'x_skw', 'y_skw', 'z_skw', 'x_kur', 'y_kur', 'z_kur']] = x10[[0,1,2,3,4,5,6,7,8,9,10,11,12,13,14,15,16,17]]\n",
        "x10 = x10.drop(labels=[0,1,2,3,4,5,6,7,8,9,10,11,12,13,14,15,16,17], axis=1)\n",
        "x10['ID'] = 260\n",
        "\n",
        "x11[['x_mean', 'y_mean', 'z_mean', 'x_std', 'y_std', 'z_std', 'x_var', 'y_var', 'z_var', 'x_iqr', 'y_iqr', 'z_iqr', 'x_skw', 'y_skw', 'z_skw', 'x_kur', 'y_kur', 'z_kur']] = x11[[0,1,2,3,4,5,6,7,8,9,10,11,12,13,14,15,16,17]]\n",
        "x11 = x11.drop(labels=[0,1,2,3,4,5,6,7,8,9,10,11,12,13,14,15,16,17], axis=1)\n",
        "x11['ID'] = 525\n",
        "\n",
        "x12[['x_mean', 'y_mean', 'z_mean', 'x_std', 'y_std', 'z_std', 'x_var', 'y_var', 'z_var', 'x_iqr', 'y_iqr', 'z_iqr', 'x_skw', 'y_skw', 'z_skw', 'x_kur', 'y_kur', 'z_kur']] = x12[[0,1,2,3,4,5,6,7,8,9,10,11,12,13,14,15,16,17]]\n",
        "x12 = x12.drop(labels=[0,1,2,3,4,5,6,7,8,9,10,11,12,13,14,15,16,17], axis=1)\n",
        "x12['ID'] = 914"
      ],
      "metadata": {
        "id": "dd-X8Os5uPpj"
      },
      "execution_count": 340,
      "outputs": []
    },
    {
      "cell_type": "code",
      "source": [
        "frames = x1, x2, x3, x4, x5, x6, x7, x8, x9, x10, x11, x12"
      ],
      "metadata": {
        "id": "-WGv6GRNusqy"
      },
      "execution_count": 341,
      "outputs": []
    },
    {
      "cell_type": "code",
      "source": [
        "UserDF = pd.concat(frames, axis=0, ignore_index=True)"
      ],
      "metadata": {
        "id": "hZH7FhbewBUC"
      },
      "execution_count": 342,
      "outputs": []
    },
    {
      "cell_type": "code",
      "source": [
        "from sklearn.model_selection import train_test_split, GridSearchCV\n",
        "from sklearn.ensemble import RandomForestClassifier\n",
        "from sklearn.metrics import confusion_matrix, accuracy_score, classification_report"
      ],
      "metadata": {
        "id": "eTl7gOofyXje"
      },
      "execution_count": 343,
      "outputs": []
    },
    {
      "cell_type": "code",
      "source": [
        "#New approach using Grid search to play with parameters and figure out the best ones\n",
        "n_estimators=[64,100,128,200,400]\n",
        "max_features=['sqrt', 'log2']\n",
        "bootstrap=[True, False]\n",
        "oob_score=[True, False]\n",
        "\n",
        "param_grid = {'n_estimators': n_estimators, 'max_features': max_features, 'bootstrap': bootstrap, 'oob_score': oob_score}"
      ],
      "metadata": {
        "id": "Y9gvuOYDDOGP"
      },
      "execution_count": 344,
      "outputs": []
    },
    {
      "cell_type": "code",
      "source": [
        "UserDF.replace(np.nan, 0)\n",
        "X = UserDF.drop(labels='ID', axis=1)\n",
        "y = UserDF['ID']"
      ],
      "metadata": {
        "id": "c4UHmVvZyYZv"
      },
      "execution_count": 345,
      "outputs": []
    },
    {
      "cell_type": "code",
      "source": [
        "X_train, X_test, y_train, y_test = train_test_split(X, y, test_size=0.2, random_state=42)"
      ],
      "metadata": {
        "id": "VBaoN7gUy4kW"
      },
      "execution_count": 346,
      "outputs": []
    },
    {
      "cell_type": "code",
      "source": [
        "rfc = RandomForestClassifier(n_estimators=275, bootstrap=True, oob_score=True, random_state=42)"
      ],
      "metadata": {
        "id": "oKwAvLIby7w8"
      },
      "execution_count": 361,
      "outputs": []
    },
    {
      "cell_type": "code",
      "source": [
        "#Using Grid Search\n",
        "#grid = GridSearchCV(rfc,param_grid)"
      ],
      "metadata": {
        "id": "32r5P6xJEXVT"
      },
      "execution_count": 348,
      "outputs": []
    },
    {
      "cell_type": "code",
      "source": [
        "#grid.fit(X_train, y_train)"
      ],
      "metadata": {
        "id": "jQq2dcmpEZcI"
      },
      "execution_count": 349,
      "outputs": []
    },
    {
      "cell_type": "code",
      "source": [
        "#grid.best_params_"
      ],
      "metadata": {
        "id": "M1HFLnSuErQ3"
      },
      "execution_count": 350,
      "outputs": []
    },
    {
      "cell_type": "code",
      "source": [
        "#Comparing Grid Search CV oob_score False to a true one\n",
        "#rfc2 = RandomForestClassifier(n_estimators=64, max_features='sqrt', bootstrap=True, oob_score=True)"
      ],
      "metadata": {
        "id": "HiIskM77FWU4"
      },
      "execution_count": 351,
      "outputs": []
    },
    {
      "cell_type": "code",
      "source": [
        "#rfc2.fit(X_train,y_train)"
      ],
      "metadata": {
        "id": "OvcNLwTHFn9K"
      },
      "execution_count": 352,
      "outputs": []
    },
    {
      "cell_type": "code",
      "source": [
        "#pred2 = rfc2.predict(X_test)"
      ],
      "metadata": {
        "id": "zlaCNrWJFsZS"
      },
      "execution_count": 353,
      "outputs": []
    },
    {
      "cell_type": "code",
      "source": [
        "#print(accuracy_score(y_test, pred2)), rfc2.oob_score_"
      ],
      "metadata": {
        "id": "lDVOHFaMFyfv"
      },
      "execution_count": 354,
      "outputs": []
    },
    {
      "cell_type": "code",
      "source": [
        "#Not using grid search\n",
        "model = rfc.fit(X_train, y_train)"
      ],
      "metadata": {
        "id": "8Zx1HLFXy9p7"
      },
      "execution_count": 362,
      "outputs": []
    },
    {
      "cell_type": "code",
      "source": [
        "preds = rfc.predict(X_test)"
      ],
      "metadata": {
        "id": "DPz1vm21zH1Q"
      },
      "execution_count": 363,
      "outputs": []
    },
    {
      "cell_type": "code",
      "source": [
        "print(\"Train score:\", rfc.score(X_train, y_train) * 100)\n",
        "print(\"Test score:\", rfc.score(X_test, y_test) * 100)"
      ],
      "metadata": {
        "colab": {
          "base_uri": "https://localhost:8080/"
        },
        "id": "frudxPqM8oLl",
        "outputId": "3b06908d-49dd-4e6a-8837-19c0ab034c4b"
      },
      "execution_count": 364,
      "outputs": [
        {
          "output_type": "stream",
          "name": "stdout",
          "text": [
            "Train score: 100.0\n",
            "Test score: 62.0\n"
          ]
        }
      ]
    },
    {
      "cell_type": "code",
      "source": [
        "print(confusion_matrix(y_test, preds))"
      ],
      "metadata": {
        "colab": {
          "base_uri": "https://localhost:8080/"
        },
        "id": "e_7xTma_zLwr",
        "outputId": "73dc8ed1-0ac1-4b4d-8ca4-4d9ba5dec461"
      },
      "execution_count": 365,
      "outputs": [
        {
          "output_type": "stream",
          "name": "stdout",
          "text": [
            "[[237   0   3  10  11  12  18   6   7  25  10  26]\n",
            " [  0 443   0   0   2   0   0   0   2   0   0   0]\n",
            " [ 19   0 244  17   9  33  14  17   5  13  17  10]\n",
            " [ 31   1  10 185  15  10  33   9  20  21  14  36]\n",
            " [ 14   3  14  30 211   8  17  31  31  17   6  15]\n",
            " [ 17   0  22  10  18 236  24  17   9   9  27  10]\n",
            " [ 32   0  16  29  19  17 222   7   6  19  15  24]\n",
            " [ 11   7  13  17  19   8   2 256  28  12  11   6]\n",
            " [ 14   2   4  10  16   3  12  38 264  11  20   7]\n",
            " [ 74   1  11  38  14  23  30   3  14 129  28  33]\n",
            " [ 27   3  17  14   6  26  10   9  13  15 259   8]\n",
            " [ 23   0   2  21   5  14  21   0  12  15   4 290]]\n"
          ]
        }
      ]
    },
    {
      "cell_type": "code",
      "source": [
        "print(accuracy_score(y_test, preds) * 100)"
      ],
      "metadata": {
        "colab": {
          "base_uri": "https://localhost:8080/"
        },
        "id": "ma2eveHIzP_N",
        "outputId": "098906ce-3ca5-4268-9d4c-158264a1eacb"
      },
      "execution_count": 366,
      "outputs": [
        {
          "output_type": "stream",
          "name": "stdout",
          "text": [
            "62.0\n"
          ]
        }
      ]
    },
    {
      "cell_type": "code",
      "source": [
        "print(classification_report(y_test, preds))"
      ],
      "metadata": {
        "colab": {
          "base_uri": "https://localhost:8080/"
        },
        "id": "UOVLyYHVzU0p",
        "outputId": "71f789ba-9c05-4810-85cf-2fb08f3ac0d6"
      },
      "execution_count": 367,
      "outputs": [
        {
          "output_type": "stream",
          "name": "stdout",
          "text": [
            "              precision    recall  f1-score   support\n",
            "\n",
            "         128       0.47      0.65      0.55       365\n",
            "         129       0.96      0.99      0.98       447\n",
            "         143       0.69      0.61      0.65       398\n",
            "         153       0.49      0.48      0.48       385\n",
            "         154       0.61      0.53      0.57       397\n",
            "         162       0.61      0.59      0.60       399\n",
            "         165       0.55      0.55      0.55       406\n",
            "         177       0.65      0.66      0.65       390\n",
            "         197       0.64      0.66      0.65       401\n",
            "         260       0.45      0.32      0.38       398\n",
            "         525       0.63      0.64      0.63       407\n",
            "         914       0.62      0.71      0.67       407\n",
            "\n",
            "    accuracy                           0.62      4800\n",
            "   macro avg       0.61      0.62      0.61      4800\n",
            "weighted avg       0.62      0.62      0.62      4800\n",
            "\n"
          ]
        }
      ]
    },
    {
      "cell_type": "code",
      "source": [],
      "metadata": {
        "id": "FgInhwcHxyrs"
      },
      "execution_count": 360,
      "outputs": []
    }
  ]
}